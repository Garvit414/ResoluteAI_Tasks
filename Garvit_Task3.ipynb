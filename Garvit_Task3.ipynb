{
  "nbformat": 4,
  "nbformat_minor": 0,
  "metadata": {
    "colab": {
      "provenance": []
    },
    "kernelspec": {
      "name": "python3",
      "display_name": "Python 3"
    },
    "language_info": {
      "name": "python"
    }
  },
  "cells": [
    {
      "cell_type": "markdown",
      "source": [
        "## **Task: Use rawdata as input and derive**\n",
        "1.**Datewise total duration for each inside and outside.**\n",
        "\n",
        "2.**Datewise number of picking and placing activity done.**\n",
        "\n",
        "Show the result  in the Streamlit page."
      ],
      "metadata": {
        "id": "2EzES25sOaRK"
      }
    },
    {
      "cell_type": "code",
      "execution_count": 2,
      "metadata": {
        "colab": {
          "base_uri": "https://localhost:8080/"
        },
        "id": "GjSniKarTZ2d",
        "outputId": "464ef2c8-e81d-49f5-abd9-be3a579f24e2"
      },
      "outputs": [
        {
          "output_type": "execute_result",
          "data": {
            "text/plain": [
              "['inputsheet', 'output']"
            ]
          },
          "metadata": {},
          "execution_count": 2
        }
      ],
      "source": [
        "import pandas as pd\n",
        "\n",
        "# Check the available sheet names in the Excel file\n",
        "sheet_names = pd.ExcelFile('rawdata.xlsx').sheet_names\n",
        "\n",
        "sheet_names"
      ]
    },
    {
      "cell_type": "code",
      "source": [
        "df = pd.read_excel('rawdata.xlsx', sheet_name='inputsheet')"
      ],
      "metadata": {
        "id": "jp3-i9O_T3HV"
      },
      "execution_count": 3,
      "outputs": []
    },
    {
      "cell_type": "code",
      "source": [
        "!pip install -q streamlit"
      ],
      "metadata": {
        "colab": {
          "base_uri": "https://localhost:8080/"
        },
        "id": "szETCUEWZCrU",
        "outputId": "6a0e7255-e25e-451b-cf6d-0e4903b6491d"
      },
      "execution_count": 4,
      "outputs": [
        {
          "output_type": "stream",
          "name": "stdout",
          "text": [
            "\u001b[2K     \u001b[90m━━━━━━━━━━━━━━━━━━━━━━━━━━━━━━━━━━━━━━━━\u001b[0m \u001b[32m8.4/8.4 MB\u001b[0m \u001b[31m22.3 MB/s\u001b[0m eta \u001b[36m0:00:00\u001b[0m\n",
            "\u001b[2K     \u001b[90m━━━━━━━━━━━━━━━━━━━━━━━━━━━━━━━━━━━━━━━━\u001b[0m \u001b[32m196.4/196.4 kB\u001b[0m \u001b[31m17.3 MB/s\u001b[0m eta \u001b[36m0:00:00\u001b[0m\n",
            "\u001b[2K     \u001b[90m━━━━━━━━━━━━━━━━━━━━━━━━━━━━━━━━━━━━━━━━\u001b[0m \u001b[32m4.8/4.8 MB\u001b[0m \u001b[31m44.1 MB/s\u001b[0m eta \u001b[36m0:00:00\u001b[0m\n",
            "\u001b[2K     \u001b[90m━━━━━━━━━━━━━━━━━━━━━━━━━━━━━━━━━━━━━━━━\u001b[0m \u001b[32m83.0/83.0 kB\u001b[0m \u001b[31m7.5 MB/s\u001b[0m eta \u001b[36m0:00:00\u001b[0m\n",
            "\u001b[2K     \u001b[90m━━━━━━━━━━━━━━━━━━━━━━━━━━━━━━━━━━━━━━━━\u001b[0m \u001b[32m62.7/62.7 kB\u001b[0m \u001b[31m5.9 MB/s\u001b[0m eta \u001b[36m0:00:00\u001b[0m\n",
            "\u001b[?25h"
          ]
        }
      ]
    },
    {
      "cell_type": "code",
      "source": [
        "!wget -q -O - ipv4.icanhazip.com"
      ],
      "metadata": {
        "colab": {
          "base_uri": "https://localhost:8080/"
        },
        "id": "p5Mok3C0GUXF",
        "outputId": "c4382717-22ec-4d9d-ade2-bb8631316b59"
      },
      "execution_count": 5,
      "outputs": [
        {
          "output_type": "stream",
          "name": "stdout",
          "text": [
            "34.122.106.122\n"
          ]
        }
      ]
    },
    {
      "cell_type": "code",
      "source": [
        "%%writefile app.py\n",
        "\n",
        "import streamlit as st\n",
        "import pandas as pd\n",
        "\n",
        "# Step 1: Load the Dataset\n",
        "df = pd.read_excel('rawdata.xlsx', sheet_name='inputsheet')\n",
        "\n",
        "# Step 2: Preprocess the Data\n",
        "df['datetime'] = pd.to_datetime(df['date']) + pd.to_timedelta(df['time'].astype(str))\n",
        "\n",
        "# Step 3: Extract Features\n",
        "df['location'] = df['position'].apply(lambda x: 'inside' if 'inside' in x else 'outside')\n",
        "df['activity_type'] = df['activity'].apply(lambda x: 'picked' if 'picked' in x.lower() else 'placed')\n",
        "\n",
        "# Step 4: Calculate Duration for Each Inside and Outside Activity\n",
        "inside_outside_duration = df.groupby(['date', 'location'])['datetime'].agg(lambda x: (x.max() - x.min()).total_seconds() / 60).unstack(fill_value=0)\n",
        "\n",
        "# Step 5: Count Number of picked and placed Activities\n",
        "activity_count = df.groupby(['date', 'activity_type']).size().unstack(fill_value=0)\n",
        "\n",
        "# Display the results in Streamlit\n",
        "st.title('Activity Analysis')\n",
        "\n",
        "st.subheader('Datewise total duration for each inside and outside:')\n",
        "st.write(inside_outside_duration)\n",
        "\n",
        "st.subheader('Datewise number of picked and placed activity done:')\n",
        "st.write(activity_count)\n"
      ],
      "metadata": {
        "colab": {
          "base_uri": "https://localhost:8080/"
        },
        "id": "XydCEK7FGQC5",
        "outputId": "61572337-9014-4fb5-c1c5-5540514f9d09"
      },
      "execution_count": 6,
      "outputs": [
        {
          "output_type": "stream",
          "name": "stdout",
          "text": [
            "Writing app.py\n"
          ]
        }
      ]
    },
    {
      "cell_type": "code",
      "source": [
        "! streamlit run app.py & npx localtunnel --port 8501"
      ],
      "metadata": {
        "colab": {
          "base_uri": "https://localhost:8080/"
        },
        "id": "9pc6_xCtGYTV",
        "outputId": "f97712ad-42ee-4945-ee2f-fcff8f4d1427"
      },
      "execution_count": 7,
      "outputs": [
        {
          "output_type": "stream",
          "name": "stdout",
          "text": [
            "\n",
            "Collecting usage statistics. To deactivate, set browser.gatherUsageStats to False.\n",
            "\u001b[0m\n",
            "\u001b[0m\n",
            "\u001b[34m\u001b[1m  You can now view your Streamlit app in your browser.\u001b[0m\n",
            "\u001b[0m\n",
            "\u001b[34m  Network URL: \u001b[0m\u001b[1mhttp://172.28.0.12:8501\u001b[0m\n",
            "\u001b[34m  External URL: \u001b[0m\u001b[1mhttp://34.122.106.122:8501\u001b[0m\n",
            "\u001b[0m\n",
            "\u001b[K\u001b[?25hnpx: installed 22 in 5.304s\n",
            "your url is: https://late-geckos-sin.loca.lt\n",
            "\u001b[34m  Stopping...\u001b[0m\n",
            "^C\n"
          ]
        }
      ]
    }
  ]
}